{
 "cells": [
  {
   "cell_type": "code",
   "execution_count": 2,
   "metadata": {},
   "outputs": [],
   "source": [
    "from copy import deepcopy\n",
    "\n",
    "import bilby\n",
    "import numpy as np\n",
    "from tqdm.auto import trange"
   ]
  },
  {
   "cell_type": "code",
   "execution_count": null,
   "metadata": {},
   "outputs": [
    {
     "name": "stderr",
     "output_type": "stream",
     "text": [
      "12:19 bilby INFO    : Waveform generator initiated with\n",
      "  frequency_domain_source_model: bilby.gw.source.lal_binary_black_hole_relative_binning\n",
      "  time_domain_source_model: None\n",
      "  parameter_conversion: bilby.gw.conversion.convert_to_lal_binary_black_hole_parameters\n",
      "12:19 bilby INFO    : Injected signal in H1:\n",
      "12:19 bilby INFO    :   optimal SNR = 22.11\n",
      "12:19 bilby INFO    :   matched filter SNR = 20.90-0.24j\n",
      "12:19 bilby INFO    :   mass_1 = 20\n",
      "12:19 bilby INFO    :   mass_2 = 3\n",
      "12:19 bilby INFO    :   a_1 = 0.4\n",
      "12:19 bilby INFO    :   a_2 = 0.3\n",
      "12:19 bilby INFO    :   tilt_1 = 0.5\n",
      "12:19 bilby INFO    :   tilt_2 = 1.0\n",
      "12:19 bilby INFO    :   phi_12 = 1.7\n",
      "12:19 bilby INFO    :   phi_jl = 0.3\n",
      "12:19 bilby INFO    :   luminosity_distance = 300.0\n",
      "12:19 bilby INFO    :   theta_jn = 0.4\n",
      "12:19 bilby INFO    :   psi = 2.7\n",
      "12:19 bilby INFO    :   phase = 1.3\n",
      "12:19 bilby INFO    :   geocent_time = 1126259642.413\n",
      "12:19 bilby INFO    :   ra = 1.375\n",
      "12:19 bilby INFO    :   dec = -1.2108\n",
      "12:19 bilby INFO    :   fiducial = 1\n",
      "12:19 bilby INFO    : Injected signal in L1:\n",
      "12:19 bilby INFO    :   optimal SNR = 17.89\n",
      "12:19 bilby INFO    :   matched filter SNR = 18.68+1.88j\n",
      "12:19 bilby INFO    :   mass_1 = 20\n",
      "12:19 bilby INFO    :   mass_2 = 3\n",
      "12:19 bilby INFO    :   a_1 = 0.4\n",
      "12:19 bilby INFO    :   a_2 = 0.3\n",
      "12:19 bilby INFO    :   tilt_1 = 0.5\n",
      "12:19 bilby INFO    :   tilt_2 = 1.0\n",
      "12:19 bilby INFO    :   phi_12 = 1.7\n",
      "12:19 bilby INFO    :   phi_jl = 0.3\n",
      "12:19 bilby INFO    :   luminosity_distance = 300.0\n",
      "12:19 bilby INFO    :   theta_jn = 0.4\n",
      "12:19 bilby INFO    :   psi = 2.7\n",
      "12:19 bilby INFO    :   phase = 1.3\n",
      "12:19 bilby INFO    :   geocent_time = 1126259642.413\n",
      "12:19 bilby INFO    :   ra = 1.375\n",
      "12:19 bilby INFO    :   dec = -1.2108\n",
      "12:19 bilby INFO    :   fiducial = 1\n",
      "12:19 bilby INFO    : No prior given, using default BBH priors in /cita/modules/python/3.10.2/lib/python3.10/site-packages/bilby/gw/prior_files/precessing_spins_bbh.prior.\n"
     ]
    },
    {
     "name": "stdout",
     "output_type": "stream",
     "text": [
      "{'mass_1': Constraint(minimum=5, maximum=100, name='mass_1', latex_label='$m_1$', unit=None), 'mass_2': Constraint(minimum=2, maximum=5, name=None, latex_label='$m_2$', unit=None), 'mass_ratio': bilby.gw.prior.UniformInComponentsMassRatio(minimum=0.05, maximum=0.5, name='mass_ratio', latex_label='$q$', unit=None, boundary=None, equal_mass=False), 'chirp_mass': bilby.gw.prior.UniformInComponentsChirpMass(minimum=1, maximum=25, name='chirp+mass', latex_label='$M_c$', unit=None, boundary=None), 'luminosity_distance': bilby.gw.prior.UniformSourceFrame(minimum=100.0, maximum=5000.0, cosmology=FlatLambdaCDM(name=\"Planck15\", H0=67.74 km / (Mpc s), Om0=0.3075, Tcmb0=2.7255 K, Neff=3.046, m_nu=[0.   0.   0.06] eV, Ob0=0.0486), name='luminosity_distance', latex_label='$d_L$', unit=Unit(\"Mpc\"), boundary=None), 'dec': -1.2108, 'ra': 1.375, 'theta_jn': Sine(minimum=0, maximum=3.141592653589793, name='theta_jn', latex_label='$\\\\theta_{JN}$', unit=None, boundary=None), 'psi': 2.7, 'phase': 1.3, 'a_1': 0.4, 'a_2': 0.3, 'tilt_1': 0.5, 'tilt_2': 1.0, 'phi_12': 1.7, 'phi_jl': 0.3, 'geocent_time': 1126259642.413}\n"
     ]
    },
    {
     "name": "stderr",
     "output_type": "stream",
     "text": [
      "12:19 bilby INFO    : Loaded distance marginalisation lookup table from .distance_marginalization_lookup.npz.\n",
      "12:19 bilby INFO    : Initial fiducial waveforms set up\n",
      "12:19 bilby INFO    : Summary Data Obtained\n",
      "12:19 bilby INFO    : Fiducial likelihood: 383.99\n",
      "12:19 bilby INFO    : Running for label 'relative', output will be saved to 'outdir1'\n",
      "12:19 bilby WARNING : Parameter fiducial has no default prior and is set to 0, this will not be sampled and may cause an error.\n",
      "12:19 bilby INFO    : Using lal version 7.1.6\n",
      "12:19 bilby INFO    : Using lal git version Branch: None;Tag: lalsuite-v7.3;Id: 2a94c13d8a2ba99cbdfda5425fbd32fb904cfb46;;Builder: Unknown User <>;Repository status: UNCLEAN: Modified working tree\n",
      "12:19 bilby INFO    : Using lalsimulation version 3.1.1\n",
      "12:19 bilby INFO    : Using lalsimulation git version Branch: None;Tag: lalsuite-v7.3;Id: 2a94c13d8a2ba99cbdfda5425fbd32fb904cfb46;;Builder: Unknown User <>;Repository status: UNCLEAN: Modified working tree\n",
      "\n",
      "[notice] A new release of pip is available: 23.2.1 -> 24.0\n",
      "[notice] To update, run: pip install --upgrade pip\n",
      "12:19 bilby INFO    : Analysis priors:\n",
      "12:19 bilby INFO    : mass_ratio=bilby.gw.prior.UniformInComponentsMassRatio(minimum=0.05, maximum=0.5, name='mass_ratio', latex_label='$q$', unit=None, boundary=None, equal_mass=False)\n",
      "12:19 bilby INFO    : chirp_mass=bilby.gw.prior.UniformInComponentsChirpMass(minimum=1, maximum=25, name='chirp+mass', latex_label='$M_c$', unit=None, boundary=None)\n",
      "12:19 bilby INFO    : theta_jn=Sine(minimum=0, maximum=3.141592653589793, name='theta_jn', latex_label='$\\\\theta_{JN}$', unit=None, boundary=None)\n",
      "12:19 bilby INFO    : mass_1=Constraint(minimum=5, maximum=100, name='mass_1', latex_label='$m_1$', unit=None)\n",
      "12:19 bilby INFO    : mass_2=Constraint(minimum=2, maximum=5, name=None, latex_label='$m_2$', unit=None)\n",
      "12:19 bilby INFO    : luminosity_distance=3382.9535676089\n",
      "12:19 bilby INFO    : dec=-1.2108\n",
      "12:19 bilby INFO    : ra=1.375\n",
      "12:19 bilby INFO    : psi=2.7\n",
      "12:19 bilby INFO    : phase=1.3\n",
      "12:19 bilby INFO    : a_1=0.4\n",
      "12:19 bilby INFO    : a_2=0.3\n",
      "12:19 bilby INFO    : tilt_1=0.5\n",
      "12:19 bilby INFO    : tilt_2=1.0\n",
      "12:19 bilby INFO    : phi_12=1.7\n",
      "12:19 bilby INFO    : phi_jl=0.3\n",
      "12:19 bilby INFO    : geocent_time=1126259642.413\n",
      "12:19 bilby INFO    : Analysis likelihood class: <class 'bilby.gw.likelihood.relative.RelativeBinningGravitationalWaveTransient'>\n",
      "12:19 bilby INFO    : Analysis likelihood noise evidence: -241107.38057412748\n",
      "12:19 bilby INFO    : Single likelihood evaluation took 6.379e-03 s\n",
      "12:19 bilby INFO    : Using sampler Dynesty with kwargs {'nlive': 500, 'bound': 'live', 'sample': 'act-walk', 'periodic': None, 'reflective': None, 'update_interval': 600, 'first_update': None, 'npdim': None, 'rstate': None, 'queue_size': 1, 'pool': None, 'use_pool': None, 'live_points': None, 'logl_args': None, 'logl_kwargs': None, 'ptform_args': None, 'ptform_kwargs': None, 'gradient': None, 'grad_args': None, 'grad_kwargs': None, 'compute_jac': False, 'enlarge': None, 'bootstrap': None, 'walks': 100, 'facc': 0.2, 'slices': None, 'fmove': 0.9, 'max_move': 100, 'update_func': None, 'ncdim': None, 'blob': False, 'save_history': False, 'history_filename': None, 'maxiter': None, 'maxcall': None, 'dlogz': 0.1, 'logl_max': inf, 'n_effective': None, 'add_live': True, 'print_progress': True, 'print_func': <bound method Dynesty._print_func of <bilby.core.sampler.dynesty.Dynesty object at 0x7f19ba2c8370>>, 'save_bounds': False, 'checkpoint_file': None, 'checkpoint_every': 60, 'resume': False}\n",
      "12:19 bilby INFO    : Checkpoint every check_point_delta_t = 600s\n",
      "12:19 bilby INFO    : Using dynesty version 2.1.2\n",
      "12:19 bilby INFO    : Using the bilby-implemented rwalk sampling tracking the autocorrelation function and thinning by 2 with maximum length 10000\n",
      "12:19 bilby INFO    : Reading resume file outdir1/relative_resume.pickle\n",
      "12:19 bilby INFO    : Resume file successfully loaded.\n"
     ]
    },
    {
     "data": {
      "application/vnd.jupyter.widget-view+json": {
       "model_id": "c428dd6fa6b24495b6440fe4d6641fb9",
       "version_major": 2,
       "version_minor": 0
      },
      "text/plain": [
       "3012it [00:00, ?it/s]"
      ]
     },
     "metadata": {},
     "output_type": "display_data"
    },
    {
     "name": "stderr",
     "output_type": "stream",
     "text": [
      "12:27 bilby INFO    : Written checkpoint file outdir1/relative_resume.pickle\n",
      "12:38 bilby INFO    : Written checkpoint file outdir1/relative_resume.pickle\n",
      "12:46 bilby INFO    : Written checkpoint file outdir1/relative_resume.pickle\n",
      "12:46 bilby INFO    : Rejection sampling nested samples to obtain 1639 posterior samples\n",
      "12:46 bilby INFO    : Sampling time: 0:53:44.820696\n"
     ]
    },
    {
     "name": "stdout",
     "output_type": "stream",
     "text": [
      "\n"
     ]
    },
    {
     "name": "stderr",
     "output_type": "stream",
     "text": [
      "12:46 bilby INFO    : Computing per-detector log likelihoods.\n"
     ]
    },
    {
     "data": {
      "application/vnd.jupyter.widget-view+json": {
       "model_id": "dd52c35d285a4f3684d99c88501615d4",
       "version_major": 2,
       "version_minor": 0
      },
      "text/plain": [
       "  0%|          | 0/1639 [00:00<?, ?it/s]"
      ]
     },
     "metadata": {},
     "output_type": "display_data"
    },
    {
     "name": "stderr",
     "output_type": "stream",
     "text": [
      "12:46 bilby INFO    : Reconstructing marginalised parameters.\n"
     ]
    },
    {
     "data": {
      "application/vnd.jupyter.widget-view+json": {
       "model_id": "4bc5ab8e9b2c47609bc2adb1474b1839",
       "version_major": 2,
       "version_minor": 0
      },
      "text/plain": [
       "  0%|          | 0/1639 [00:00<?, ?it/s]"
      ]
     },
     "metadata": {},
     "output_type": "display_data"
    },
    {
     "name": "stderr",
     "output_type": "stream",
     "text": [
      "12:46 bilby INFO    : Generating sky frame parameters.\n"
     ]
    },
    {
     "data": {
      "application/vnd.jupyter.widget-view+json": {
       "model_id": "58b3ce891e664333828ae95061fc3e80",
       "version_major": 2,
       "version_minor": 0
      },
      "text/plain": [
       "  0%|          | 0/1639 [00:00<?, ?it/s]"
      ]
     },
     "metadata": {},
     "output_type": "display_data"
    },
    {
     "name": "stderr",
     "output_type": "stream",
     "text": [
      "12:46 bilby INFO    : Computing SNRs for every sample.\n"
     ]
    },
    {
     "data": {
      "application/vnd.jupyter.widget-view+json": {
       "model_id": "4198320b7b0248bebff3656935d100a6",
       "version_major": 2,
       "version_minor": 0
      },
      "text/plain": [
       "  0%|          | 0/1639 [00:00<?, ?it/s]"
      ]
     },
     "metadata": {},
     "output_type": "display_data"
    },
    {
     "name": "stderr",
     "output_type": "stream",
     "text": [
      "12:47 bilby INFO    : Summary of results:\n",
      "nsamples: 1639\n",
      "ln_noise_evidence: -241107.381\n",
      "ln_evidence: -240741.227 +/-  0.237\n",
      "ln_bayes_factor: 366.153 +/-  0.237\n",
      "\n",
      "12:47 bilby INFO    : Waveform generator initiated with\n",
      "  frequency_domain_source_model: bilby.gw.source.lal_binary_black_hole\n",
      "  time_domain_source_model: None\n",
      "  parameter_conversion: bilby.gw.conversion.convert_to_lal_binary_black_hole_parameters\n"
     ]
    },
    {
     "data": {
      "application/vnd.jupyter.widget-view+json": {
       "model_id": "3f41ed2f6a2b43c68f9d5e54ff4ce8b1",
       "version_major": 2,
       "version_minor": 0
      },
      "text/plain": [
       "  0%|          | 0/1639 [00:00<?, ?it/s]"
      ]
     },
     "metadata": {},
     "output_type": "display_data"
    }
   ],
   "source": [
    "\"\"\"\n",
    "Tutorial to demonstrate running parameter estimation on a reduced parameter\n",
    "space for an injected signal, using the relative binning likelihood.\n",
    "\n",
    "This example estimates the masses using a uniform prior in both component masses\n",
    "and distance using a uniform in comoving volume prior on luminosity distance\n",
    "between luminosity distances of 100Mpc and 5Gpc, the cosmology is Planck15.\n",
    "\"\"\"\n",
    "\n",
    "# Set the duration and sampling frequency of the data segment that we're\n",
    "# going to inject the signal into\n",
    "duration = 120.0\n",
    "sampling_frequency = 2048.0\n",
    "minimum_frequency = 20\n",
    "\n",
    "# Specify the output directory and the name of the simulation.\n",
    "outdir = \"outdir1\"\n",
    "label = \"relative\"\n",
    "bilby.core.utils.setup_logger(outdir=outdir, label=label)\n",
    "\n",
    "# Set up a random seed for result reproducibility.  This is optional!\n",
    "np.random.seed(88170235)\n",
    "\n",
    "# We are going to inject a binary black hole waveform.  We first establish a\n",
    "# dictionary of parameters that includes all of the different waveform\n",
    "# parameters, including masses of the two black holes (mass_1, mass_2),\n",
    "# spins of both black holes (a, tilt, phi), etc.\n",
    "injection_parameters = dict(\n",
    "    mass_1=20,\n",
    "    mass_2=3,\n",
    "    a_1=0.4,\n",
    "    a_2=0.3,\n",
    "    tilt_1=0.5,\n",
    "    tilt_2=1.0,\n",
    "    phi_12=1.7,\n",
    "    phi_jl=0.3,\n",
    "    luminosity_distance=300.0,\n",
    "    theta_jn=0.4,\n",
    "    psi=2.7,\n",
    "    phase=1.3,\n",
    "    geocent_time=1126259642.413,\n",
    "    ra=1.375,\n",
    "    dec=-1.2108,\n",
    "    fiducial=1,\n",
    ")\n",
    "\n",
    "# Fixed arguments passed into the source model\n",
    "waveform_arguments = dict(\n",
    "    waveform_approximant=\"IMRPhenomXPHM\",\n",
    "    reference_frequency=50.0,\n",
    "    minimum_frequency=minimum_frequency,\n",
    ")\n",
    "\n",
    "# Create the waveform_generator using a LAL BinaryBlackHole source function\n",
    "waveform_generator = bilby.gw.WaveformGenerator(\n",
    "    duration=duration,\n",
    "    sampling_frequency=sampling_frequency,\n",
    "    # frequency_domain_source_model=bilby.gw.source.lal_binary_black_hole,\n",
    "    frequency_domain_source_model=bilby.gw.source.lal_binary_black_hole_relative_binning,\n",
    "    parameter_conversion=bilby.gw.conversion.convert_to_lal_binary_black_hole_parameters,\n",
    "    waveform_arguments=waveform_arguments,\n",
    ")\n",
    "\n",
    "# Set up interferometers.  In this case we'll use two interferometers\n",
    "# (LIGO-Hanford (H1), LIGO-Livingston (L1). These default to their design\n",
    "# sensitivity\n",
    "ifos = bilby.gw.detector.InterferometerList([\"H1\", \"L1\"])\n",
    "ifos.set_strain_data_from_power_spectral_densities(\n",
    "    sampling_frequency=sampling_frequency,\n",
    "    duration=duration,\n",
    "    start_time=injection_parameters[\"geocent_time\"] - 60,\n",
    ")\n",
    "ifos.inject_signal(\n",
    "    waveform_generator=waveform_generator, parameters=injection_parameters\n",
    ")\n",
    "\n",
    "# Set up a PriorDict, which inherits from dict.\n",
    "# By default we will sample all terms in the signal models.  However, this will\n",
    "# take a long time for the calculation, so for this example we will set almost\n",
    "# all of the priors to be equall to their injected values.  This implies the\n",
    "# prior is a delta function at the true, injected value.  In reality, the\n",
    "# sampler implementation is smart enough to not sample any parameter that has\n",
    "# a delta-function prior.\n",
    "# The above list does *not* include mass_1, mass_2, theta_jn and luminosity\n",
    "# distance, which means those are the parameters that will be included in the\n",
    "# sampler.  If we do nothing, then the default priors get used.\n",
    "priors = bilby.gw.prior.BBHPriorDict()\n",
    "for key in [\n",
    "    \"a_1\",\"a_2\",\"tilt_1\",\"tilt_2\",\"phi_12\",\"phi_jl\",\"psi\",\n",
    "    \"ra\",\"dec\",\"geocent_time\",\"phase\"]:\n",
    "    priors[key] = injection_parameters[key]\n",
    "\n",
    "priors[\"mass_2\"] = bilby.core.prior.base.Constraint(minimum=2, maximum=5, latex_label='$m_2$', unit=None)\n",
    "priors[\"mass_ratio\"] = bilby.gw.prior.UniformInComponentsMassRatio(minimum=0.05, maximum=0.5, name='mass_ratio', latex_label='$q$', unit=None, boundary=None, equal_mass=False)\n",
    "priors[\"chirp_mass\"] = bilby.gw.prior.UniformInComponentsChirpMass(minimum = 1, maximum = 25, name=\"chirp+mass\", latex_label = '$M_c$')\n",
    "priors[\"luminosity_distance\"] = bilby.gw.prior.UniformSourceFrame(minimum=100.0, maximum=5000.0, cosmology='Planck15', name='luminosity_distance', latex_label='$d_L$', unit='Mpc', boundary=None)\n",
    "print(priors)\n",
    "# Perform a check that the prior does not extend to a parameter space longer than the data\n",
    "priors.validate_prior(duration, minimum_frequency)\n",
    "\n",
    "# Set up the fiducial parameters for the relative binning likelihood to be the\n",
    "# injected parameters. Note that because we sample in chirp mass and mass ratio\n",
    "# but injected with mass_1 and mass_2, we need to convert the mass parameters\n",
    "fiducial_parameters = injection_parameters.copy()\n",
    "m1 = fiducial_parameters.pop(\"mass_1\")\n",
    "m2 = fiducial_parameters.pop(\"mass_2\")\n",
    "fiducial_parameters[\"chirp_mass\"] = bilby.gw.conversion.component_masses_to_chirp_mass(\n",
    "    m1, m2)\n",
    "fiducial_parameters[\"mass_ratio\"] = m2 / m1\n",
    "\n",
    "# Initialise the likelihood by passing in the interferometer data (ifos) and\n",
    "# the waveform generator\n",
    "likelihood = bilby.gw.likelihood.RelativeBinningGravitationalWaveTransient(\n",
    "    interferometers=ifos,\n",
    "    waveform_generator=waveform_generator,\n",
    "    priors=priors,\n",
    "    distance_marginalization=True,\n",
    "    fiducial_parameters=fiducial_parameters, chi=10)\n",
    "\n",
    "result = bilby.run_sampler(\n",
    "    likelihood=likelihood,\n",
    "    priors=priors,\n",
    "    sampler=\"dynesty\",\n",
    "    npoints=500,\n",
    "    injection_parameters=injection_parameters,\n",
    "    outdir=outdir,\n",
    "    label=label,\n",
    "    conversion_function=bilby.gw.conversion.generate_all_bbh_parameters,\n",
    ")\n",
    "\n",
    "alt_waveform_generator = bilby.gw.WaveformGenerator(\n",
    "    duration=duration,\n",
    "    sampling_frequency=sampling_frequency,\n",
    "    frequency_domain_source_model=bilby.gw.source.lal_binary_black_hole,\n",
    "    # frequency_domain_source_model=lal_binary_black_hole_relative_binning,\n",
    "    parameter_conversion=bilby.gw.conversion.convert_to_lal_binary_black_hole_parameters,\n",
    "    waveform_arguments=waveform_arguments,\n",
    ")\n",
    "alt_likelihood = bilby.gw.likelihood.GravitationalWaveTransient(\n",
    "    interferometers=ifos,\n",
    "    waveform_generator=alt_waveform_generator,\n",
    ")\n",
    "likelihood.distance_marginalization = False\n",
    "weights = list()\n",
    "for ii in trange(len(result.posterior)):\n",
    "    parameters = dict(result.posterior.iloc[ii])\n",
    "    likelihood.parameters.update(parameters)\n",
    "    alt_likelihood.parameters.update(parameters)\n",
    "    weights.append(\n",
    "        alt_likelihood.log_likelihood_ratio() - likelihood.log_likelihood_ratio()\n",
    "    )\n",
    "weights = np.exp(weights)\n",
    "print(\n",
    "    f\"Reweighting efficiency is {np.mean(weights)**2 / np.mean(weights**2) * 100:.2f}%\"\n",
    ")\n",
    "print(f\"Binned vs unbinned log Bayes factor {np.log(np.mean(weights)):.2f}\")\n",
    "\n",
    "# Generate result object with the posterior for the regular likelihood using\n",
    "# rejection sampling\n",
    "alt_result = deepcopy(result)\n",
    "keep = weights > np.random.uniform(0, max(weights), len(weights))\n",
    "alt_result.posterior = result.posterior.iloc[keep]\n",
    "\n",
    "# Make a comparison corner plot.\n",
    "bilby.core.result.plot_multiple(\n",
    "    [result, alt_result],\n",
    "    labels=[\"Binned\", \"Reweighted\"],\n",
    "    filename=f\"{outdir}/{label}_corner.png\",\n",
    ")"
   ]
  },
  {
   "cell_type": "code",
   "execution_count": null,
   "metadata": {},
   "outputs": [],
   "source": []
  }
 ],
 "metadata": {
  "kernelspec": {
   "display_name": "Python 3 (ipykernel)",
   "language": "python",
   "name": "python3"
  },
  "language_info": {
   "codemirror_mode": {
    "name": "ipython",
    "version": 3
   },
   "file_extension": ".py",
   "mimetype": "text/x-python",
   "name": "python",
   "nbconvert_exporter": "python",
   "pygments_lexer": "ipython3",
   "version": "3.10.2"
  }
 },
 "nbformat": 4,
 "nbformat_minor": 2
}
