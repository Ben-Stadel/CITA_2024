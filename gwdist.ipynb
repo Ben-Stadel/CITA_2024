{
 "cells": [
  {
   "cell_type": "code",
   "execution_count": null,
   "metadata": {},
   "outputs": [],
   "source": [
    "import numpy as np\n",
    "import gwdistributions\n",
    "from gwdistributions import distributions, event, generators, transforms\n",
    "from gwdistributions.utils import Parameters"
   ]
  },
  {
   "attachments": {},
   "cell_type": "markdown",
   "metadata": {},
   "source": [
    "To Fix:\n",
    "Errors:\n",
    " - Deal with conditional stuff which is definitely wrong\n",
    "\n",
    "Stuff I'm unsure of:\n",
    " - Currently using a Lumonisity Distance power law, pretyy sure I want to use a redshift power law. There's transform classes to go between the two but not sure when to implement it\n",
    " - I was sampling in azimuth and zenith because bilby_pipe seemed to prefer that, Reed's code uses RA/Dec, not sure what the best way to remedy that is\n",
    " - Waveform default is IMRPhenomXPHM in Reed's code, not sure how to change it to IMRPhenomNSBH\n",
    " - Not sure if I am implementing the SNR cutoff right"
   ]
  },
  {
   "cell_type": "code",
   "execution_count": 26,
   "metadata": {},
   "outputs": [
    {
     "name": "stdout",
     "output_type": "stream",
     "text": [
      "('min_mass1_source', 'max_mass1_source', 'mean_mass1_source', 'stdv_mass1_source')\n",
      "('min_luminosity_distance', 'max_luminosity_distance', 'pow_luminosity_distance')\n",
      "('min_spin1_magnitude', 'max_spin1_magnitude', 'mean_spin1_magnitude', 'stdv_spin1_magnitude')\n",
      "('geocenter_time',)\n"
     ]
    }
   ],
   "source": [
    "paramsm11 = {'min_mass1_source':2.5, 'max_mass1_source':17, 'mean_mass1_source':11.053, 'stdv_mass1_source':2.909}\n",
    "paramsm12 = {'min_mass1_source':2.5, 'max_mass1_source':17, 'mean_mass1_source':13.687, 'stdv_mass1_source':0.570}\n",
    "m11 = distributions.TruncatedGaussianMass1()\n",
    "print(m11.param_names)\n",
    "m11.parameters = paramsm11\n",
    "m12 = distributions.TruncatedGaussianMass1()\n",
    "m12.parameters = paramsm12\n",
    "m1 = distributions.Mixture((m11, 0.895), (m12, 0.105))\n",
    "\n",
    "m2 = distributions.TruncatedGaussianMass2()\n",
    "paramsm2 = {'min_mass2_source':1.69, 'max_mass2_source':1.71, 'mean_mass2_source':1.7, 'stdv_mass2_source':1}\n",
    "m2.parameters = paramsm2\n",
    "\n",
    "luminosity_distance = distributions.PowerLawLuminosityDistance()\n",
    "print(luminosity_distance.param_names)\n",
    "paramslum = {'min_luminosity_distance':20, 'max_luminosity_distance':1000, 'pow_luminosity_distance':2.7}\n",
    "luminosity_distance.parameters = paramslum\n",
    "\n",
    "angle1 = distributions.AlignedSpin1PolarAngle()\n",
    "chi_11 = distributions.TruncatedGaussianSpin1Magnitude()\n",
    "print(chi_11.param_names)\n",
    "paramschi11 = {'min_spin1_magnitude':-1, 'max_spin1_magnitude':1, 'mean_spin1_magnitude':-0.5, 'stdv_spin1_magnitude':0.08}\n",
    "chi_11.parameters = paramschi11\n",
    "chi_12 = distributions.TruncatedGaussianSpin1Magnitude()\n",
    "paramschi12 = {'min_spin1_magnitude':-1, 'max_spin1_magnitude':1, 'mean_spin1_magnitude':0, 'stdv_spin1_magnitude':0.01}\n",
    "chi_12.parameters = paramschi12\n",
    "chi_13 = distributions.TruncatedGaussianSpin1Magnitude()\n",
    "paramschi13 = {'min_spin1_magnitude':-1, 'max_spin1_magnitude':1, 'mean_spin1_magnitude':0.5, 'stdv_spin1_magnitude':0.08}\n",
    "chi_13.parameters = paramschi13\n",
    "chi_1 = distributions.Mixture((chi_12, 0.85), (chi_11, 0.075), (chi_13, 0.075))\n",
    "\n",
    "chi_2 = distributions.ZeroSpin2Magnitude()\n",
    "# lambda_1 = distributions.Zero()\n",
    "# lambda_2 = distributions.Zero()\n",
    "# theta_jn = distributions.Uniform() # Should be Sine distribution\n",
    "# theta_jn.parameters = {'min_variate':0, 'max_variate':np.pi}\n",
    "# psi = distributions.Uniform()\n",
    "# psi.parameters = {'min_variate':0, 'max_variate':2*np.pi}\n",
    "# phase = distributions.Uniform()\n",
    "# phase.parameters = {'min_variate':0, 'max_variate':2*np.pi}\n",
    "orientation = distributions.RandomOrientation()\n",
    "RAdec = distributions.location.IsotropicRADec()\n",
    "geocent_time = distributions.FixedTime()\n",
    "print(geocent_time.param_names)\n",
    "geocent_time.parameters = {'geocenter_time':1240215503.0}\n",
    "\n",
    "\n",
    "dists = [m1, m2, luminosity_distance, angle1, chi_1, chi_2, orientation, RAdec, geocent_time]\n",
    "# detect_prob = transforms.DetectionProbabilityGivenOptimalSNR(detectors=['L1', 'H1'],\n",
    "#                                                               threshold_snr = 10)\n",
    "gen = generators.EventGenerator(distributions = dists, \n",
    "                               # conditionals = detect_prob\n",
    "                                )\n"
   ]
  }
 ],
 "metadata": {
  "kernelspec": {
   "display_name": "bilby",
   "language": "python",
   "name": "python3"
  },
  "language_info": {
   "codemirror_mode": {
    "name": "ipython",
    "version": 3
   },
   "file_extension": ".py",
   "mimetype": "text/x-python",
   "name": "python",
   "nbconvert_exporter": "python",
   "pygments_lexer": "ipython3",
   "version": "3.10.14"
  },
  "orig_nbformat": 4
 },
 "nbformat": 4,
 "nbformat_minor": 2
}
