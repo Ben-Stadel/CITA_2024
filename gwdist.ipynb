{
 "cells": [
  {
   "cell_type": "code",
   "execution_count": null,
   "metadata": {},
   "outputs": [],
   "source": [
    "import numpy as np\n",
    "import gwdistributions\n",
    "from gwdistributions import distributions, event, generators, transforms\n",
    "from gwdistributions.utils import Parameters\n"
   ]
  },
  {
   "attachments": {},
   "cell_type": "markdown",
   "metadata": {},
   "source": [
    "To Fix:\n",
    "Errors:\n",
    " - How to set parameters for each distibution:\n",
    "    If I try to use the parameters method I get an error saying Parameters object is not callable\n",
    " - When trying to create an event generator I get an error saying \"variate=variate already produced!\" if I try to pass the distributions into it\n",
    "\n",
    "Stuff I'm unsure of:\n",
    " - Currently using a Lumonisity Distance power law, pretyy sure I want to use a redshift power law. There's transform classes to go between the two but not sure when to impliment it\n",
    " - I was previously using Sine distributions for inclination, but I haven't been able to find one in Reed's code\n",
    " - I was sampling in azimuth and zenith because bilby_pipe seemed to prefer that, Reed's code uses RA/Dec, not sure what the best way to remedy that is\n",
    " - Waveform default is IMRPhenomXPHM in Reed's code, not sure how to change it to IMRPhenomNSBH\n",
    " - Not sure if I am implimenting the SNR cutoff right"
   ]
  },
  {
   "cell_type": "code",
   "execution_count": 15,
   "metadata": {},
   "outputs": [
    {
     "ename": "AssertionError",
     "evalue": "variate=variate already produced!",
     "output_type": "error",
     "traceback": [
      "\u001b[0;31m---------------------------------------------------------------------------\u001b[0m",
      "\u001b[0;31mAssertionError\u001b[0m                            Traceback (most recent call last)",
      "Cell \u001b[0;32mIn[15], line 44\u001b[0m\n\u001b[1;32m     41\u001b[0m dists \u001b[39m=\u001b[39m [m1, m2, luminosity_distance, chi_1, chi_2, lambda_1, lambda_2, theta_jn]\n\u001b[1;32m     42\u001b[0m detect_prob \u001b[39m=\u001b[39m transforms\u001b[39m.\u001b[39mDetectionProbabilityGivenOptimalSNR(detectors\u001b[39m=\u001b[39m[\u001b[39m'\u001b[39m\u001b[39mL1\u001b[39m\u001b[39m'\u001b[39m, \u001b[39m'\u001b[39m\u001b[39mH1\u001b[39m\u001b[39m'\u001b[39m],\n\u001b[1;32m     43\u001b[0m                                                               threshold_snr \u001b[39m=\u001b[39m \u001b[39m10\u001b[39m)\n\u001b[0;32m---> 44\u001b[0m gen \u001b[39m=\u001b[39m generators\u001b[39m.\u001b[39;49mEventGenerator(dists, detect_prob)\n",
      "File \u001b[0;32m/fs/lustre/cita/bstadel/miniconda3/envs/bilby/lib/python3.10/site-packages/gwdistributions/generators.py:65\u001b[0m, in \u001b[0;36mEventGenerator.__init__\u001b[0;34m(self, distributions, transforms, conditionals, store_logprob, store_factored_logprob, delete_vector_attributes)\u001b[0m\n\u001b[1;32m     63\u001b[0m \u001b[39mself\u001b[39m\u001b[39m.\u001b[39m_distributions \u001b[39m=\u001b[39m []\n\u001b[1;32m     64\u001b[0m \u001b[39mfor\u001b[39;00m dist \u001b[39min\u001b[39;00m distributions:\n\u001b[0;32m---> 65\u001b[0m     \u001b[39mself\u001b[39;49m\u001b[39m.\u001b[39;49mappend_distribution(dist)\n\u001b[1;32m     67\u001b[0m \u001b[39m### list of transofmrations to apply when events are generated\u001b[39;00m\n\u001b[1;32m     68\u001b[0m \u001b[39mself\u001b[39m\u001b[39m.\u001b[39m_transforms \u001b[39m=\u001b[39m []\n",
      "File \u001b[0;32m/fs/lustre/cita/bstadel/miniconda3/envs/bilby/lib/python3.10/site-packages/gwdistributions/generators.py:380\u001b[0m, in \u001b[0;36mEventGenerator.append_distribution\u001b[0;34m(self, obj)\u001b[0m\n\u001b[1;32m    376\u001b[0m     \u001b[39mdef\u001b[39;00m \u001b[39mappend_distribution\u001b[39m(\u001b[39mself\u001b[39m, obj):\n\u001b[1;32m    377\u001b[0m \u001b[39m        \u001b[39m\u001b[39m\"\"\"Add a distribution for a set of properties of the event. Automatically checks that the new distribution \\\u001b[39;00m\n\u001b[1;32m    378\u001b[0m \u001b[39mfor consistency with existing distribution\u001b[39;00m\n\u001b[1;32m    379\u001b[0m \u001b[39m        \"\"\"\u001b[39;00m\n\u001b[0;32m--> 380\u001b[0m         \u001b[39mself\u001b[39;49m\u001b[39m.\u001b[39;49m_check_distribution(obj)\n\u001b[1;32m    381\u001b[0m         \u001b[39mself\u001b[39m\u001b[39m.\u001b[39mdistributions\u001b[39m.\u001b[39mappend(obj)\n",
      "File \u001b[0;32m/fs/lustre/cita/bstadel/miniconda3/envs/bilby/lib/python3.10/site-packages/gwdistributions/generators.py:354\u001b[0m, in \u001b[0;36mEventGenerator._check_distribution\u001b[0;34m(self, obj)\u001b[0m\n\u001b[1;32m    350\u001b[0m \u001b[39m        \u001b[39m\u001b[39m\"\"\"check to make sure we don't already have any distribution that will generate one of obj.variates \\\u001b[39;00m\n\u001b[1;32m    351\u001b[0m \u001b[39mand that we have a distribution that will produce obj.required\u001b[39;00m\n\u001b[1;32m    352\u001b[0m \u001b[39m        \"\"\"\u001b[39;00m\n\u001b[1;32m    353\u001b[0m         variates \u001b[39m=\u001b[39m \u001b[39mself\u001b[39m\u001b[39m.\u001b[39mdistribution_variates\n\u001b[0;32m--> 354\u001b[0m         \u001b[39mself\u001b[39;49m\u001b[39m.\u001b[39;49m_check_variates(variates, obj\u001b[39m.\u001b[39;49mvariates)\n\u001b[1;32m    355\u001b[0m         \u001b[39mself\u001b[39m\u001b[39m.\u001b[39m_check_required(variates, obj\u001b[39m.\u001b[39mrequired)\n",
      "File \u001b[0;32m/fs/lustre/cita/bstadel/miniconda3/envs/bilby/lib/python3.10/site-packages/gwdistributions/generators.py:372\u001b[0m, in \u001b[0;36mEventGenerator._check_variates\u001b[0;34m(present, variates)\u001b[0m\n\u001b[1;32m    369\u001b[0m \u001b[39m@staticmethod\u001b[39m\n\u001b[1;32m    370\u001b[0m \u001b[39mdef\u001b[39;00m \u001b[39m_check_variates\u001b[39m(present, variates):\n\u001b[1;32m    371\u001b[0m     \u001b[39mfor\u001b[39;00m variate \u001b[39min\u001b[39;00m variates:\n\u001b[0;32m--> 372\u001b[0m         \u001b[39massert\u001b[39;00m variate \u001b[39mnot\u001b[39;00m \u001b[39min\u001b[39;00m present, \u001b[39m'\u001b[39m\u001b[39mvariate=\u001b[39m\u001b[39m%s\u001b[39;00m\u001b[39m already produced!\u001b[39m\u001b[39m'\u001b[39m\u001b[39m%\u001b[39mvariate\n",
      "\u001b[0;31mAssertionError\u001b[0m: variate=variate already produced!"
     ]
    }
   ],
   "source": [
    "paramsm11 = {'min':2.5, 'max':17, 'mean':11.053, 'stdv':2.909}\n",
    "paramsm12 = {'min':2.5, 'max':17, 'mean':13.687, 'stdv':0.570}\n",
    "m11 = distributions.TruncatedGaussianMass1()\n",
    "#m11.parameters(paramsm11)\n",
    "m12 = distributions.TruncatedGaussianMass1()\n",
    "#m12.parameters(paramsm12)\n",
    "m1 = distributions.Mixture((m11, 0.895), (m12, 0.105))\n",
    "\n",
    "m2 = distributions.Fixed()\n",
    "#m2.parameters(1.7)\n",
    "\n",
    "luminosity_distance = distributions.PowerLawLuminosityDistance()\n",
    "paramslum = {'min':20, 'max':1000, 'pow':2.7}\n",
    "#luminosity_distance.parameters(paramslum)\n",
    "\n",
    "chi_11 = distributions.TruncatedGaussian()\n",
    "paramschi11 = {'min':-1, 'max':1, 'mean':-0.5, 'stdv':0.08}\n",
    "#chi_11.parameters(paramschi11)\n",
    "chi_12 = distributions.TruncatedGaussian()\n",
    "paramschi12 = {'min':-1, 'max':1, 'mean':0, 'stdv':0.01}\n",
    "#chi_12.parameters(paramschi12)\n",
    "chi_13 = distributions.TruncatedGaussian()\n",
    "paramschi13 = {'min':-1, 'max':1, 'mean':0.5, 'stdv':0.08}\n",
    "#chi_13.parameters(paramschi13)\n",
    "chi_1 = distributions.Mixture((chi_12, 0.85), (chi_11, 0.075), (chi_13, 0.075))\n",
    "\n",
    "chi_2 = distributions.Zero()\n",
    "lambda_1 = distributions.Zero()\n",
    "lambda_2 = distributions.Zero()\n",
    "theta_jn = distributions.Uniform() # Should be Sine distribution\n",
    "#theta_jn.parameters({'min':0, 'max':np.pi})\n",
    "psi = distributions.Uniform()\n",
    "#psi.parameters({'min':0, 'max':2*np.pi})\n",
    "phase = distributions.Uniform()\n",
    "#phase.parameters({'min':0, 'max':2*np.pi})\n",
    "RAdec = distributions.location.IsotropicRADec()\n",
    "geocent_time = distributions.FixedTime()\n",
    "#geocent_time.parameters({1240215503.0})\n",
    "\n",
    "\n",
    "dists = [m1, m2, luminosity_distance, chi_1, chi_2, lambda_1, lambda_2, theta_jn]\n",
    "detect_prob = transforms.DetectionProbabilityGivenOptimalSNR(detectors=['L1', 'H1'],\n",
    "                                                              threshold_snr = 10)\n",
    "gen = generators.EventGenerator(dists, detect_prob)\n"
   ]
  }
 ],
 "metadata": {
  "kernelspec": {
   "display_name": "bilby",
   "language": "python",
   "name": "python3"
  },
  "language_info": {
   "codemirror_mode": {
    "name": "ipython",
    "version": 3
   },
   "file_extension": ".py",
   "mimetype": "text/x-python",
   "name": "python",
   "nbconvert_exporter": "python",
   "pygments_lexer": "ipython3",
   "version": "3.10.14"
  },
  "orig_nbformat": 4
 },
 "nbformat": 4,
 "nbformat_minor": 2
}
