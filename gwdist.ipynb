{
 "cells": [
  {
   "cell_type": "code",
   "execution_count": null,
   "metadata": {},
   "outputs": [],
   "source": [
    "import numpy as np\n",
    "import gwdistributions\n",
    "from gwdistributions import distributions, event, generators, transforms\n",
    "from gwdistributions.utils import Parameters\n",
    "from gwdetectors import detector\n",
    "from gwdetectors import cache"
   ]
  },
  {
   "attachments": {},
   "cell_type": "markdown",
   "metadata": {},
   "source": [
    "To Fix:\n",
    "Errors:\n",
    " - event doesnt have strain attribute when trying to run observedSNR, not sure I'm applying the SNR condition right at all\n",
    "\n",
    "Stuff I'm unsure of:\n",
    " - I was sampling in azimuth and zenith because bilby_pipe seemed to prefer that, Reed's code uses RA/Dec, not sure what the best way to remedy that is\n",
    " - Waveform default is IMRPhenomXPHM in Reed's code, not sure how to change it to IMRPhenomNSBH\n",
    "    DEFAULT_DELTAT = 1/4096, I uss 0.2\n",
    "    DEFAULT_FLOW = 10, I used 20\n",
    "    DEFAULY_FHIGH = 2048, I used 1000\n",
    "    DEFAULT_DELTAF = 0.125, don't know what this is\n",
    "    DEFAULT_FREF = 10, I used 50\n"
   ]
  },
  {
   "cell_type": "code",
   "execution_count": 14,
   "metadata": {},
   "outputs": [
    {
     "name": "stdout",
     "output_type": "stream",
     "text": [
      "('min_mass1_source', 'max_mass1_source', 'mean_mass1_source', 'stdv_mass1_source')\n",
      "('min_spin1_magnitude', 'max_spin1_magnitude', 'mean_spin1_magnitude', 'stdv_spin1_magnitude')\n",
      "['CE@H_ce-design', 'CE@L_ce-design', 'H_aligo-design', 'H_aplus-design', 'L_aligo-design', 'L_aplus-design', 'V_advirgo-design']\n",
      "<class 'gwdetectors.detector.twoarmdetector.TwoArmDetector'>\n",
      "Network(\n",
      "  TwoArmDetector( L_aligo-design, location = (-2.477582e-04, -1.833363e-02, 1.075496e-02) sec, arms = ( (-1.273647e-05, -1.889051e-06, -3.498275e-06) sec, (3.972636e-06, -6.509975e-06, -1.094817e-05) sec, ) psd = OneSidedPowerSpectralDensity(aligo-design, freq within [5.000000e+00 5.000000e+03])), long-wavelength approximation = False, ),\n",
      "  TwoArmDetector( H_aligo-design, location = (-7.209704e-03, -1.279117e-02, 1.534512e-02) sec, arms = ( (-2.987302e-06, 1.067179e-05, 7.430539e-06) sec, (-1.219481e-05, 3.481614e-07, -5.402717e-06) sec, ) psd = OneSidedPowerSpectralDensity(aligo-design, freq within [5.000000e+00 5.000000e+03])), long-wavelength approximation = False, ),\n",
      ")\n"
     ]
    },
    {
     "ename": "AssertionError",
     "evalue": "Event does not have attribute \"strain_L_aligo-design\"",
     "output_type": "error",
     "traceback": [
      "\u001b[0;31m---------------------------------------------------------------------------\u001b[0m",
      "\u001b[0;31mAssertionError\u001b[0m                            Traceback (most recent call last)",
      "Cell \u001b[0;32mIn[14], line 73\u001b[0m\n\u001b[1;32m     69\u001b[0m gen \u001b[39m=\u001b[39m generators\u001b[39m.\u001b[39mEventGenerator(distributions \u001b[39m=\u001b[39m dists, \n\u001b[1;32m     70\u001b[0m                                 conditionals \u001b[39m=\u001b[39m detect_prob,\n\u001b[1;32m     71\u001b[0m                                 transforms \u001b[39m=\u001b[39m transform)\n\u001b[1;32m     72\u001b[0m gen\u001b[39m.\u001b[39mflush_events\n\u001b[0;32m---> 73\u001b[0m calls \u001b[39m=\u001b[39m gen\u001b[39m.\u001b[39;49mgenerate(n_event \u001b[39m=\u001b[39;49m \u001b[39m100\u001b[39;49m)\n\u001b[1;32m     74\u001b[0m \u001b[39mprint\u001b[39m(gen\u001b[39m.\u001b[39mtotal_generated)\n\u001b[1;32m     75\u001b[0m \u001b[39mprint\u001b[39m(gen\u001b[39m.\u001b[39mevents)\n",
      "File \u001b[0;32m/fs/lustre/cita/bstadel/miniconda3/envs/bilby/lib/python3.10/site-packages/gwdistributions/generators.py:596\u001b[0m, in \u001b[0;36mEventGenerator.generate\u001b[0;34m(self, n_itr, n_event, verbose, Verbose, progress_bar_size)\u001b[0m\n\u001b[1;32m    594\u001b[0m check \u001b[39m=\u001b[39m \u001b[39mTrue\u001b[39;00m\n\u001b[1;32m    595\u001b[0m \u001b[39mfor\u001b[39;00m func \u001b[39min\u001b[39;00m \u001b[39mself\u001b[39m\u001b[39m.\u001b[39mconditionals:\n\u001b[0;32m--> 596\u001b[0m     check \u001b[39m&\u001b[39m\u001b[39m=\u001b[39m func(event)\n\u001b[1;32m    598\u001b[0m \u001b[39mif\u001b[39;00m Verbose: \u001b[39m### print properties of the event\u001b[39;00m\n\u001b[1;32m    599\u001b[0m     \u001b[39mprint\u001b[39m(\u001b[39m'\u001b[39m\u001b[39m    \u001b[39m\u001b[39m%.3e\u001b[39;00m\u001b[39m sec : conditionals\u001b[39m\u001b[39m'\u001b[39m\u001b[39m%\u001b[39m(time\u001b[39m.\u001b[39mtime()\u001b[39m-\u001b[39mt0))\n",
      "File \u001b[0;32m/fs/lustre/cita/bstadel/miniconda3/envs/bilby/lib/python3.10/site-packages/gwdistributions/transforms/base.py:34\u001b[0m, in \u001b[0;36mAttributeTransformation.__call__\u001b[0;34m(self, event)\u001b[0m\n\u001b[1;32m     33\u001b[0m \u001b[39mdef\u001b[39;00m \u001b[39m__call__\u001b[39m(\u001b[39mself\u001b[39m, event):\n\u001b[0;32m---> 34\u001b[0m     \u001b[39mself\u001b[39;49m\u001b[39m.\u001b[39;49mcheck(event)\n\u001b[1;32m     35\u001b[0m     \u001b[39mself\u001b[39m\u001b[39m.\u001b[39mtransform(event)\n",
      "File \u001b[0;32m/fs/lustre/cita/bstadel/miniconda3/envs/bilby/lib/python3.10/site-packages/gwdistributions/transforms/base.py:31\u001b[0m, in \u001b[0;36mAttributeTransformation.check\u001b[0;34m(self, event)\u001b[0m\n\u001b[1;32m     29\u001b[0m \u001b[39mdef\u001b[39;00m \u001b[39mcheck\u001b[39m(\u001b[39mself\u001b[39m, event):\n\u001b[1;32m     30\u001b[0m     \u001b[39mfor\u001b[39;00m attr \u001b[39min\u001b[39;00m \u001b[39mself\u001b[39m\u001b[39m.\u001b[39m_required:\n\u001b[0;32m---> 31\u001b[0m         \u001b[39massert\u001b[39;00m \u001b[39mhasattr\u001b[39m(event, attr), \u001b[39m'\u001b[39m\u001b[39mEvent does not have attribute \u001b[39m\u001b[39m\"\u001b[39m\u001b[39m%s\u001b[39;00m\u001b[39m\"\u001b[39m\u001b[39m'\u001b[39m\u001b[39m%\u001b[39mattr\n",
      "\u001b[0;31mAssertionError\u001b[0m: Event does not have attribute \"strain_L_aligo-design\""
     ]
    }
   ],
   "source": [
    "paramsm11 = {'min_mass1_source':2.5, 'max_mass1_source':17, 'mean_mass1_source':11.053, 'stdv_mass1_source':2.909}\n",
    "paramsm12 = {'min_mass1_source':2.5, 'max_mass1_source':17, 'mean_mass1_source':13.687, 'stdv_mass1_source':0.570}\n",
    "m11 = distributions.TruncatedGaussianMass1()\n",
    "print(m11.param_names)\n",
    "m11.parameters = paramsm11\n",
    "m12 = distributions.TruncatedGaussianMass1()\n",
    "m12.parameters = paramsm12\n",
    "m1 = distributions.Mixture((m11, 0.895), (m12, 0.105))\n",
    "\n",
    "m2 = distributions.TruncatedGaussianMass2()\n",
    "paramsm2 = {'min_mass2_source':1.69, 'max_mass2_source':1.71, 'mean_mass2_source':1.7, 'stdv_mass2_source':1}\n",
    "m2.parameters = paramsm2\n",
    "\n",
    "# luminosity_distance = distributions.PowerLawLuminosityDistance()\n",
    "# print(luminosity_distance.param_names)\n",
    "# paramslum = {'min_luminosity_distance':20, 'max_luminosity_distance':1000, 'pow_luminosity_distance':2.7}\n",
    "# luminosity_distance.parameters = paramslum\n",
    "\n",
    "z = distributions.PowerLaw1plusRedshift()\n",
    "paramsz = {'min_redshift':0, 'max_redshift':1, 'pow_redshift':1.7} # Considering the (1+z) in the denominator\n",
    "z.parameters = paramsz\n",
    "\n",
    "angle1 = distributions.AlignedSpin1PolarAngle()\n",
    "chi_11 = distributions.TruncatedGaussianSpin1Magnitude()\n",
    "print(chi_11.param_names)\n",
    "paramschi11 = {'min_spin1_magnitude':-1, 'max_spin1_magnitude':1, 'mean_spin1_magnitude':-0.5, 'stdv_spin1_magnitude':0.08}\n",
    "chi_11.parameters = paramschi11\n",
    "chi_12 = distributions.TruncatedGaussianSpin1Magnitude()\n",
    "paramschi12 = {'min_spin1_magnitude':-1, 'max_spin1_magnitude':1, 'mean_spin1_magnitude':0, 'stdv_spin1_magnitude':0.01}\n",
    "chi_12.parameters = paramschi12\n",
    "chi_13 = distributions.TruncatedGaussianSpin1Magnitude()\n",
    "paramschi13 = {'min_spin1_magnitude':-1, 'max_spin1_magnitude':1, 'mean_spin1_magnitude':0.5, 'stdv_spin1_magnitude':0.08}\n",
    "chi_13.parameters = paramschi13\n",
    "chi_1 = distributions.Mixture((chi_12, 0.85), (chi_11, 0.075), (chi_13, 0.075))\n",
    "\n",
    "chi_2 = distributions.ZeroSpin2Magnitude()\n",
    "\n",
    "# lambda_1 = distributions.Zero()\n",
    "# lambda_2 = distributions.Zero()\n",
    "# theta_jn = distributions.Uniform() # Should be Sine distribution\n",
    "# theta_jn.parameters = {'min_variate':0, 'max_variate':np.pi}\n",
    "# psi = distributions.Uniform()\n",
    "# psi.parameters = {'min_variate':0, 'max_variate':2*np.pi}\n",
    "# phase = distributions.Uniform()\n",
    "# phase.parameters = {'min_variate':0, 'max_variate':2*np.pi}\n",
    "orientation = distributions.RandomOrientation()\n",
    "RAdec = distributions.location.IsotropicRADec()\n",
    "geocent_time = distributions.FixedTime()\n",
    "geocent_time.parameters = {'geocenter_time':1240215503.0}\n",
    "\n",
    "\n",
    "dists = [m1, m2, z, angle1, chi_1, chi_2, orientation, RAdec, geocent_time]\n",
    "\n",
    "transform = [transforms.Redshift2LuminosityDistance()]\n",
    "\n",
    "print(cache.detector.KNOWN_DETECTORS)\n",
    "L = cache.detector.DETECTORS['L_aligo-design']\n",
    "H = cache.detector.DETECTORS['H_aligo-design']\n",
    "print(type(L))\n",
    "network1 = detector.Network(L,H)\n",
    "detect_prob = [transforms.OptimalSNR(\n",
    "                                    network=network1,\n",
    "                                    snr_flow = 10,\n",
    "                                    )]\n",
    "\n",
    "# detect_prob = [transforms.DetectionProbabilityGivenOptimalSNR(network=network1,\n",
    "#                                                                 snr_flow = 10)]\n",
    "print(detect_prob[0].network)\n",
    "gen = generators.EventGenerator(distributions = dists, \n",
    "                                conditionals = detect_prob,\n",
    "                                transforms = transform)\n",
    "gen.flush_events\n",
    "calls = gen.generate(n_event = 100)\n",
    "print(gen.total_generated)\n",
    "print(gen.events)\n",
    "print(calls)\n",
    "gen.write()"
   ]
  }
 ],
 "metadata": {
  "kernelspec": {
   "display_name": "bilby",
   "language": "python",
   "name": "python3"
  },
  "language_info": {
   "codemirror_mode": {
    "name": "ipython",
    "version": 3
   },
   "file_extension": ".py",
   "mimetype": "text/x-python",
   "name": "python",
   "nbconvert_exporter": "python",
   "pygments_lexer": "ipython3",
   "version": "3.10.14"
  },
  "orig_nbformat": 4
 },
 "nbformat": 4,
 "nbformat_minor": 2
}
